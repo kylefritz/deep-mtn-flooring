{
 "cells": [
  {
   "cell_type": "markdown",
   "metadata": {},
   "source": [
    "<img height=\"500\" width=\"500\" src=\"https://www.dropbox.com/s/3zsh0uy3uwmxjf2/cutting-down-tree.jpg?dl=1\" />"
   ]
  },
  {
   "cell_type": "code",
   "execution_count": 1,
   "metadata": {},
   "outputs": [],
   "source": [
    "from numericalunits import inch, foot, m, cm\n",
    "\n",
    "# tree width estimation\n",
    "# hat_pixels = 258\n",
    "# hat_length = 11 * inch\n",
    "# tree_pixels = 916\n",
    "tree_diam = 33 * inch\n",
    "bark_depth = 2 * inch\n",
    "hardwood_diam = tree_diam - 2 * bark_depth\n",
    "hardwood_radius = hardwood_diam / 2\n",
    "\n",
    "flooring_length = 12 * foot\n",
    "flooring_depth = 1 * inch\n",
    "flooring_min_width = 4 * inch # mbar floors = 2 * inch\n",
    "cut_kerf = 1/8 * inch\n",
    "flooring_layer = flooring_depth + cut_kerf\n",
    "\n",
    "log_length = 6 * inch + flooring_length\n",
    "log_diam = hardwood_diam"
   ]
  },
  {
   "cell_type": "markdown",
   "metadata": {},
   "source": [
    "![depth image](https://www.dropbox.com/s/22bv339sxk1lz35/depth-width-diagram.png?dl=1)"
   ]
  },
  {
   "cell_type": "code",
   "execution_count": 2,
   "metadata": {},
   "outputs": [
    {
     "name": "stdout",
     "output_type": "stream",
     "text": [
      "2*sqrt(d*(-d + 2*r))\n"
     ]
    }
   ],
   "source": [
    "from sympy import *\n",
    "import numpy as np\n",
    "\n",
    "d, s, w, r = symbols(\"d s w r\")\n",
    "eq1 = Eq(r, sqrt(s**2 + (w/2)**2))\n",
    "eq2 = eq1.subs(s, r - d)\n",
    "eq_w = solve(eq2, w)[0]\n",
    "print(eq_w)"
   ]
  },
  {
   "cell_type": "markdown",
   "metadata": {},
   "source": [
    "\\begin{equation}\n",
    "board\\ width = \\textbf{floor} \\left(2 \\sqrt{2 d r - d^2} \\right)\n",
    "\\end{equation}"
   ]
  },
  {
   "cell_type": "code",
   "execution_count": 3,
   "metadata": {},
   "outputs": [
    {
     "data": {
      "text/plain": [
       "10.0"
      ]
     },
     "execution_count": 3,
     "metadata": {},
     "output_type": "execute_result"
    }
   ],
   "source": [
    "eq3 = eq_w.subs(r, hardwood_radius)\n",
    "board_width_at_depth = lambdify(d, eq3, \"numpy\")\n",
    "board_width_at_depth_inches = lambda d_v: np.floor(board_width_at_depth(d_v * inch) / inch)\n",
    "board_width_at_depth_inches(1)"
   ]
  },
  {
   "cell_type": "code",
   "execution_count": 4,
   "metadata": {},
   "outputs": [],
   "source": [
    "# depths = np.linspace(1, hardwood_diam / inch)\n",
    "depths = np.arange(flooring_layer/inch, hardwood_diam/inch, flooring_layer/inch)\n",
    "widths = board_width_at_depth_inches(depths)"
   ]
  },
  {
   "cell_type": "code",
   "execution_count": 5,
   "metadata": {},
   "outputs": [],
   "source": [
    "import matplotlib.pyplot as plt\n",
    "%matplotlib inline"
   ]
  },
  {
   "cell_type": "code",
   "execution_count": 6,
   "metadata": {},
   "outputs": [
    {
     "data": {
      "image/png": "[encoded data removed]",
      "text/plain": [
       "<Figure size 432x288 with 1 Axes>"
      ]
     },
     "metadata": {
      "needs_background": "light"
     },
     "output_type": "display_data"
    }
   ],
   "source": [
    "plt.plot(depths, widths, '.')\n",
    "plt.title('possible board widths')\n",
    "plt.xlabel('log depth (inches)')\n",
    "plt.ylabel('board width (inches)')\n",
    "plt.yticks(np.linspace(10, 28, 10)); # heurstic to make ticks nice"
   ]
  },
  {
   "cell_type": "code",
   "execution_count": 7,
   "metadata": {},
   "outputs": [
    {
     "data": {
      "image/png": "[encoded data removed]",
      "text/plain": [
       "<Figure size 432x288 with 1 Axes>"
      ]
     },
     "metadata": {
      "needs_background": "light"
     },
     "output_type": "display_data"
    }
   ],
   "source": [
    "bins = np.linspace(8, 30, 12); # heurstic nice binning\n",
    "plt.hist(widths, bins, rwidth=0.9)\n",
    "plt.title('histogram of board widths')\n",
    "plt.xlabel('board widths')\n",
    "plt.ylabel('count')\n",
    "plt.xticks(list(bins)); # label with midpoint of bin\n"
   ]
  },
  {
   "cell_type": "code",
   "execution_count": 8,
   "metadata": {},
   "outputs": [
    {
     "name": "stdout",
     "output_type": "stream",
     "text": [
      "25 boards totally 47.4' in width\n",
      "milled_price $150\n"
     ]
    }
   ],
   "source": [
    "total_boards = len(widths)\n",
    "total_width = np.sum(widths) * inch / foot\n",
    "print(\"%d boards totally %0.1f' in width\" % (total_boards, total_width))\n",
    "milled_length = total_boards * 12\n",
    "milled_price = milled_length * 0.5\n",
    "print(\"milled_price $%d\" % milled_price)"
   ]
  },
  {
   "cell_type": "markdown",
   "metadata": {},
   "source": [
    "## summary\n",
    "\n",
    "If the tree is ~2.5' wide for the first 12':\n",
    "\n",
    "**we'd be able to mill 47 boards**\n",
    " * 12' long\n",
    " * 1\" deep\n",
    " * widths starting at 10\"\n",
    "\n",
    "we'd need 24' x 2 sides = 48 total."
   ]
  },
  {
   "cell_type": "markdown",
   "metadata": {},
   "source": [
    "## future work\n",
    "\n",
    "mill is probably want to know *exactly* which profiles we want to cut. will have to determine a list."
   ]
  },
  {
   "cell_type": "code",
   "execution_count": null,
   "metadata": {},
   "outputs": [],
   "source": []
  }
 ],
 "metadata": {
  "kernelspec": {
   "display_name": "Python 3",
   "language": "python",
   "name": "python3"
  },
  "language_info": {
   "codemirror_mode": {
    "name": "ipython",
    "version": 3
   },
   "file_extension": ".py",
   "mimetype": "text/x-python",
   "name": "python",
   "nbconvert_exporter": "python",
   "pygments_lexer": "ipython3",
   "version": "3.6.7"
  }
 },
 "nbformat": 4,
 "nbformat_minor": 2
}

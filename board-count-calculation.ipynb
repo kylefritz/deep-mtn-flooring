{
 "cells": [
  {
   "cell_type": "markdown",
   "metadata": {},
   "source": [
    "<img height=\"500\" width=\"500\" src=\"https://www.dropbox.com/s/3zsh0uy3uwmxjf2/cutting-down-tree.jpg?dl=1\" />"
   ]
  },
  {
   "cell_type": "code",
   "execution_count": 1,
   "metadata": {},
   "outputs": [
    {
     "name": "stdout",
     "output_type": "stream",
     "text": [
      "tree_diam: 3' 3.1\"\n",
      "hardwood_diam: 2' 11.1\"\n"
     ]
    }
   ],
   "source": [
    "from numericalunits import inch, foot, m, cm\n",
    "import math\n",
    "\n",
    "def feet_and_inches(length):    \n",
    "    length_ft = length / foot\n",
    "    length_floor_ft = math.floor(length_ft)\n",
    "    inches_remainder = (float(length_ft) - length_floor_ft) * foot / inch\n",
    "    return \"{}' {:.1f}\\\"\".format(length_floor_ft, inches_remainder)\n",
    "\n",
    "# tree width estimation\n",
    "hat_pixels = 258\n",
    "tree_pixels = 916\n",
    "hat_length = 11 * inch\n",
    "tree_diam = tree_pixels / hat_pixels * hat_length\n",
    "print(\"tree_diam: {}\".format(feet_and_inches(tree_diam)))\n",
    "bark_depth = 2 * inch\n",
    "hardwood_diam = tree_diam - 2 * bark_depth\n",
    "print(\"hardwood_diam: {}\".format(feet_and_inches(hardwood_diam)))\n",
    "hardwood_radius = hardwood_diam / 2\n",
    "\n",
    "flooring_length = 12 * foot\n",
    "flooring_depth = 1 * inch\n",
    "flooring_min_width = 4 * inch # mbar floors = 2 * inch\n",
    "cut_kerf = 1/8 * inch\n",
    "flooring_layer = flooring_depth + cut_kerf"
   ]
  },
  {
   "cell_type": "markdown",
   "metadata": {},
   "source": [
    "![depth image](https://www.dropbox.com/s/22bv339sxk1lz35/depth-width-diagram.png?dl=1)"
   ]
  },
  {
   "cell_type": "code",
   "execution_count": 2,
   "metadata": {},
   "outputs": [
    {
     "name": "stdout",
     "output_type": "stream",
     "text": [
      "2*sqrt(d*(-d + 2*r))\n"
     ]
    }
   ],
   "source": [
    "from sympy import *\n",
    "import numpy as np\n",
    "\n",
    "d, s, w, r = symbols(\"d s w r\")\n",
    "eq1 = Eq(r, sqrt(s**2 + (w/2)**2))\n",
    "eq2 = eq1.subs(s, r - d)\n",
    "eq_w = solve(eq2, w)[0]\n",
    "print(eq_w)"
   ]
  },
  {
   "cell_type": "markdown",
   "metadata": {},
   "source": [
    "\\begin{equation}\n",
    "board\\ width = \\textbf{floor} \\left(2 \\sqrt{2 d r - d^2} \\right)\n",
    "\\end{equation}"
   ]
  },
  {
   "cell_type": "code",
   "execution_count": 3,
   "metadata": {},
   "outputs": [
    {
     "data": {
      "text/plain": [
       "11.0"
      ]
     },
     "execution_count": 3,
     "metadata": {},
     "output_type": "execute_result"
    }
   ],
   "source": [
    "eq3 = eq_w.subs(r, hardwood_radius)\n",
    "board_width_at_depth = lambdify(d, eq3, \"numpy\")\n",
    "board_width_at_depth_inches = lambda d_v: np.floor(board_width_at_depth(d_v * inch) / inch)\n",
    "board_width_at_depth_inches(1)"
   ]
  },
  {
   "cell_type": "code",
   "execution_count": 4,
   "metadata": {},
   "outputs": [],
   "source": [
    "depths = np.arange(flooring_layer/inch, hardwood_diam/inch, flooring_layer/inch)\n",
    "widths = board_width_at_depth_inches(depths)"
   ]
  },
  {
   "cell_type": "code",
   "execution_count": 5,
   "metadata": {},
   "outputs": [],
   "source": [
    "import matplotlib.pyplot as plt\n",
    "%matplotlib inline\n",
    "\n",
    "def round_down_to_even(v):\n",
    "    return int(v - v % 2)\n",
    "\n",
    "def nice_even_range(values):\n",
    "    spacing = 2\n",
    "    min_value = round_down_to_even(min(values)) - spacing      # pad bottom\n",
    "    max_value = round_down_to_even(max(values)) + 2 * spacing  # pad top; also range is exclusive\n",
    "    return list(range(min_value, max_value, spacing))"
   ]
  },
  {
   "cell_type": "code",
   "execution_count": 6,
   "metadata": {},
   "outputs": [
    {
     "data": {
      "image/png": "[encoded data removed]",
      "text/plain": [
       "<Figure size 432x288 with 1 Axes>"
      ]
     },
     "metadata": {
      "needs_background": "light"
     },
     "output_type": "display_data"
    }
   ],
   "source": [
    "plt.plot(depths, widths, '.')\n",
    "plt.title('possible board widths')\n",
    "plt.xlabel('log depth (inches)')\n",
    "plt.ylabel('board width (inches)')\n",
    "plt.yticks(nice_even_range(widths));"
   ]
  },
  {
   "cell_type": "code",
   "execution_count": 7,
   "metadata": {},
   "outputs": [
    {
     "data": {
      "image/png": "[encoded data removed]",
      "text/plain": [
       "<Figure size 432x288 with 1 Axes>"
      ]
     },
     "metadata": {
      "needs_background": "light"
     },
     "output_type": "display_data"
    }
   ],
   "source": [
    "bins = nice_even_range(widths)\n",
    "histogram = plt.hist(widths, bins=bins, rwidth=0.9, align='left')\n",
    "plt.title('histogram of board widths')\n",
    "plt.xlabel('board widths')\n",
    "plt.ylabel('count')\n",
    "plt.xticks(bins);\n",
    "bin_values = histogram[0]\n",
    "max_bin_value = int(max(bin_values))\n",
    "plt.yticks(range(1 + max_bin_value));"
   ]
  },
  {
   "cell_type": "code",
   "execution_count": 8,
   "metadata": {},
   "outputs": [
    {
     "name": "stdout",
     "output_type": "stream",
     "text": [
      "assuming\n",
      "------\n",
      "tree_diam\t3' 3.1\"\n",
      "hardwood_radius\t2' 11.1\"\n",
      "\n",
      "we could mill\n",
      "------\n",
      "board count\t31\n",
      "stacked width\t70.0'\n",
      "square feet\t840\n",
      "\n",
      "cost\n",
      "------\n",
      "lumber\t\t$111\n",
      "kilm\t\t$111\n",
      "planing\t\t$420\n",
      "transit\t\t$300\n",
      "---------------------\n",
      "total\t\t$943\n"
     ]
    }
   ],
   "source": [
    "print(\"assuming\\n------\")\n",
    "print(\"tree_diam\\t{}\".format(feet_and_inches(tree_diam)))\n",
    "print(\"hardwood_radius\\t{}\".format(feet_and_inches(hardwood_diam)))\n",
    "\n",
    "print(\"\\nwe could mill\\n------\")\n",
    "board_count = len(widths)\n",
    "print(\"board count\\t%d\" % (board_count))\n",
    "\n",
    "stacked_width_feet = np.sum(widths) * inch / foot\n",
    "print(\"stacked width\\t%0.1f'\" % (stacked_width_feet))\n",
    "\n",
    "total_square_feet = flooring_length / foot * stacked_width_feet\n",
    "print(\"square feet\\t%d\" % (total_square_feet))\n",
    "\n",
    "\n",
    "milled_length = board_count * flooring_length\n",
    "\n",
    "class Calculator:\n",
    "    prices = {}\n",
    "    total = 0\n",
    "\n",
    "    def add_price(self, thing, per_unit, units):\n",
    "        price = per_unit * units\n",
    "        self.prices[thing] = price\n",
    "        self.total += price\n",
    "    \n",
    "    def report(self):\n",
    "        for k, v in self.prices.items():\n",
    "            print(\"%s\\t\\t$%d\" % (k, v))\n",
    "\n",
    "        print('---------------------')\n",
    "        print(\"total\\t\\t$%d\" % (self.total))\n",
    "\n",
    "calc = Calculator()\n",
    "calc.add_price('lumber', 0.3 / foot,  milled_length)\n",
    "calc.add_price('kilm', 0.3 / foot,  milled_length)\n",
    "calc.add_price('planing', 0.5,  total_square_feet)\n",
    "calc.add_price('transit', 300,  1)\n",
    "print(\"\\ncost\\n------\")\n",
    "calc.report()"
   ]
  },
  {
   "cell_type": "code",
   "execution_count": null,
   "metadata": {},
   "outputs": [],
   "source": []
  }
 ],
 "metadata": {
  "kernelspec": {
   "display_name": "Python 3",
   "language": "python",
   "name": "python3"
  },
  "language_info": {
   "codemirror_mode": {
    "name": "ipython",
    "version": 3
   },
   "file_extension": ".py",
   "mimetype": "text/x-python",
   "name": "python",
   "nbconvert_exporter": "python",
   "pygments_lexer": "ipython3",
   "version": "3.6.7"
  }
 },
 "nbformat": 4,
 "nbformat_minor": 2
}
